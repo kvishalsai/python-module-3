{
  "nbformat": 4,
  "nbformat_minor": 0,
  "metadata": {
    "colab": {
      "name": "Module 3 assignment 1",
      "provenance": [],
      "authorship_tag": "ABX9TyOsw08IslDL+vJreNe5RWr5",
      "include_colab_link": true
    },
    "kernelspec": {
      "name": "python3",
      "display_name": "Python 3"
    }
  },
  "cells": [
    {
      "cell_type": "markdown",
      "metadata": {
        "id": "view-in-github",
        "colab_type": "text"
      },
      "source": [
        "<a href=\"https://colab.research.google.com/github/kvishalsai/python-module-3/blob/master/Module_3_assignment_1.ipynb\" target=\"_parent\"><img src=\"https://colab.research.google.com/assets/colab-badge.svg\" alt=\"Open In Colab\"/></a>"
      ]
    },
    {
      "cell_type": "code",
      "metadata": {
        "id": "wmZ_CPgEfmm_",
        "colab_type": "code",
        "colab": {}
      },
      "source": [
        "Assignment 1"
      ],
      "execution_count": null,
      "outputs": []
    },
    {
      "cell_type": "code",
      "metadata": {
        "id": "yQe9k0NkfwPw",
        "colab_type": "code",
        "colab": {}
      },
      "source": [
        "Question 1"
      ],
      "execution_count": null,
      "outputs": []
    },
    {
      "cell_type": "code",
      "metadata": {
        "id": "JuyTEPSVfxtO",
        "colab_type": "code",
        "colab": {
          "base_uri": "https://localhost:8080/",
          "height": 51
        },
        "outputId": "5d4fdef8-9550-46a1-ee33-b57401772760"
      },
      "source": [
        " n=list(input(\"Input a binary number\"))\n",
        "value=0\n",
        "for i in range(len(n)):\n",
        "    digit=n.pop()\n",
        "    if digit == '1':\n",
        "        value=value+pow(2,i)\n",
        "print(\"The decimal value of the number is\", value)"
      ],
      "execution_count": null,
      "outputs": [
        {
          "output_type": "stream",
          "text": [
            "Input a binary number10010101\n",
            "The decimal value of the number is 149\n"
          ],
          "name": "stdout"
        }
      ]
    },
    {
      "cell_type": "code",
      "metadata": {
        "id": "eYs59XlBgHw_",
        "colab_type": "code",
        "colab": {}
      },
      "source": [
        "Question 2"
      ],
      "execution_count": null,
      "outputs": []
    },
    {
      "cell_type": "code",
      "metadata": {
        "id": "sjQ0yzMRgJvI",
        "colab_type": "code",
        "colab": {
          "base_uri": "https://localhost:8080/",
          "height": 140
        },
        "outputId": "4d10cacf-ed3d-4f1b-aaa0-186cee650e53"
      },
      "source": [
        " def Fibonacci(n):      \n",
        "    f1=0\n",
        "    f2=1\n",
        "    if (n<1): \n",
        "        return\n",
        "    for x in range(0,n): \n",
        "        print(f2) \n",
        "        next=f1+f2 \n",
        "        f1=f2 \n",
        "        f2=next\n",
        "Fibonacci(n=int(input(\"Enter the number of fibonacci numbers to be print\")))"
      ],
      "execution_count": null,
      "outputs": [
        {
          "output_type": "stream",
          "text": [
            "Enter the number of fibonacci numbers to be print5\n",
            "1\n",
            "1\n",
            "2\n",
            "3\n",
            "5\n"
          ],
          "name": "stdout"
        }
      ]
    },
    {
      "cell_type": "code",
      "metadata": {
        "id": "z9CLcII8gRGs",
        "colab_type": "code",
        "colab": {}
      },
      "source": [
        "Question 3"
      ],
      "execution_count": null,
      "outputs": []
    },
    {
      "cell_type": "code",
      "metadata": {
        "id": "1PLi2O3bgSLC",
        "colab_type": "code",
        "colab": {
          "base_uri": "https://localhost:8080/",
          "height": 205
        },
        "outputId": "e2b9a58c-dc9a-4ea0-ae75-74619a1e4d5b"
      },
      "source": [
        " n=int(input(\"Multiplication table of\"))\n",
        "for i in range(1, 11):\n",
        "   print(n, 'x',i, '=',n*i)"
      ],
      "execution_count": null,
      "outputs": [
        {
          "output_type": "stream",
          "text": [
            "Multiplication table of7\n",
            "7 x 1 = 7\n",
            "7 x 2 = 14\n",
            "7 x 3 = 21\n",
            "7 x 4 = 28\n",
            "7 x 5 = 35\n",
            "7 x 6 = 42\n",
            "7 x 7 = 49\n",
            "7 x 8 = 56\n",
            "7 x 9 = 63\n",
            "7 x 10 = 70\n"
          ],
          "name": "stdout"
        }
      ]
    },
    {
      "cell_type": "code",
      "metadata": {
        "id": "hIXAQ1EXgX_-",
        "colab_type": "code",
        "colab": {}
      },
      "source": [
        "Question 4"
      ],
      "execution_count": null,
      "outputs": []
    },
    {
      "cell_type": "code",
      "metadata": {
        "id": "a7DBMOMkgY6U",
        "colab_type": "code",
        "colab": {
          "base_uri": "https://localhost:8080/",
          "height": 137
        },
        "outputId": "34a6a90d-edee-4f43-9727-306ed188d3ae"
      },
      "source": [
        " n=int(input('How many numbers'))\n",
        "s=0\n",
        "for m in range(n):\n",
        "    a=int(input('Enter number'))\n",
        "    s+=a\n",
        "avg=s/n\n",
        "print('Average is ', avg)"
      ],
      "execution_count": null,
      "outputs": [
        {
          "output_type": "stream",
          "text": [
            "How many numbers5\n",
            "Enter number2\n",
            "Enter number6\n",
            "Enter number4\n",
            "Enter number9\n",
            "Enter number7\n",
            "Average is  5.6\n"
          ],
          "name": "stdout"
        }
      ]
    },
    {
      "cell_type": "code",
      "metadata": {
        "id": "TMzDfMTagkY_",
        "colab_type": "code",
        "colab": {}
      },
      "source": [
        "Question 5"
      ],
      "execution_count": null,
      "outputs": []
    },
    {
      "cell_type": "code",
      "metadata": {
        "id": "o-NRc_vGgmMe",
        "colab_type": "code",
        "colab": {
          "base_uri": "https://localhost:8080/",
          "height": 103
        },
        "outputId": "1f00ae4c-54fe-4860-89e4-607aedd35258"
      },
      "source": [
        "rows = 5\n",
        "for i in range(0, rows):\n",
        "    for j in range(0, i + 1):\n",
        "        print(\"*\",end=' ')\n",
        "    print(\"\\r\")"
      ],
      "execution_count": null,
      "outputs": [
        {
          "output_type": "stream",
          "text": [
            "* \r\n",
            "* * \r\n",
            "* * * \r\n",
            "* * * * \r\n",
            "* * * * * \r\n"
          ],
          "name": "stdout"
        }
      ]
    }
  ]
}