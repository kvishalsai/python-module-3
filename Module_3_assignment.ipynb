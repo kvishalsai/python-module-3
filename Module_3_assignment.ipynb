{
  "nbformat": 4,
  "nbformat_minor": 0,
  "metadata": {
    "colab": {
      "name": "Module 3 assignment",
      "provenance": [],
      "collapsed_sections": [],
      "authorship_tag": "ABX9TyPiovw7ztN91BBD7fFMiAVc",
      "include_colab_link": true
    },
    "kernelspec": {
      "name": "python3",
      "display_name": "Python 3"
    }
  },
  "cells": [
    {
      "cell_type": "markdown",
      "metadata": {
        "id": "view-in-github",
        "colab_type": "text"
      },
      "source": [
        "<a href=\"https://colab.research.google.com/github/kvishalsai/python-module-3/blob/master/Module_3_assignment.ipynb\" target=\"_parent\"><img src=\"https://colab.research.google.com/assets/colab-badge.svg\" alt=\"Open In Colab\"/></a>"
      ]
    },
    {
      "cell_type": "code",
      "metadata": {
        "id": "y0tooRnr72GW",
        "colab_type": "code",
        "colab": {}
      },
      "source": [
        "Question 1"
      ],
      "execution_count": null,
      "outputs": []
    },
    {
      "cell_type": "code",
      "metadata": {
        "id": "zBnkatz775cs",
        "colab_type": "code",
        "colab": {
          "base_uri": "https://localhost:8080/",
          "height": 1000
        },
        "outputId": "55eb685a-bd19-4f73-f1cb-f0b12347406a"
      },
      "source": [
        " for fizzbuzz in range(101):\n",
        "  if fizzbuzz % 3 ==0 and fizzbuzz % 5 ==0:\n",
        "    print(\"fizzbuzz\")\n",
        "    continue\n",
        "  elif fizzbuzz % 3 ==0:\n",
        "    print('fizz')\n",
        "    continue\n",
        "  elif fizzbuzz % 5 ==0:\n",
        "    print(\"buzz\")\n",
        "    continue\n",
        "  print(fizzbuzz)"
      ],
      "execution_count": 1,
      "outputs": [
        {
          "output_type": "stream",
          "text": [
            "fizzbuzz\n",
            "1\n",
            "2\n",
            "fizz\n",
            "4\n",
            "buzz\n",
            "fizz\n",
            "7\n",
            "8\n",
            "fizz\n",
            "buzz\n",
            "11\n",
            "fizz\n",
            "13\n",
            "14\n",
            "fizzbuzz\n",
            "16\n",
            "17\n",
            "fizz\n",
            "19\n",
            "buzz\n",
            "fizz\n",
            "22\n",
            "23\n",
            "fizz\n",
            "buzz\n",
            "26\n",
            "fizz\n",
            "28\n",
            "29\n",
            "fizzbuzz\n",
            "31\n",
            "32\n",
            "fizz\n",
            "34\n",
            "buzz\n",
            "fizz\n",
            "37\n",
            "38\n",
            "fizz\n",
            "buzz\n",
            "41\n",
            "fizz\n",
            "43\n",
            "44\n",
            "fizzbuzz\n",
            "46\n",
            "47\n",
            "fizz\n",
            "49\n",
            "buzz\n",
            "fizz\n",
            "52\n",
            "53\n",
            "fizz\n",
            "buzz\n",
            "56\n",
            "fizz\n",
            "58\n",
            "59\n",
            "fizzbuzz\n",
            "61\n",
            "62\n",
            "fizz\n",
            "64\n",
            "buzz\n",
            "fizz\n",
            "67\n",
            "68\n",
            "fizz\n",
            "buzz\n",
            "71\n",
            "fizz\n",
            "73\n",
            "74\n",
            "fizzbuzz\n",
            "76\n",
            "77\n",
            "fizz\n",
            "79\n",
            "buzz\n",
            "fizz\n",
            "82\n",
            "83\n",
            "fizz\n",
            "buzz\n",
            "86\n",
            "fizz\n",
            "88\n",
            "89\n",
            "fizzbuzz\n",
            "91\n",
            "92\n",
            "fizz\n",
            "94\n",
            "buzz\n",
            "fizz\n",
            "97\n",
            "98\n",
            "fizz\n",
            "buzz\n"
          ],
          "name": "stdout"
        }
      ]
    },
    {
      "cell_type": "code",
      "metadata": {
        "id": "qhyR8g-_8Amn",
        "colab_type": "code",
        "colab": {}
      },
      "source": [
        "Question 2"
      ],
      "execution_count": null,
      "outputs": []
    },
    {
      "cell_type": "code",
      "metadata": {
        "id": "tuWyJCi38BmU",
        "colab_type": "code",
        "colab": {
          "base_uri": "https://localhost:8080/",
          "height": 34
        },
        "outputId": "eee0b432-302b-4f16-95c0-9745ffed48c7"
      },
      "source": [
        " x=[1,2,4,7,3,7,8,4,4,9]\n",
        "print([v for i, v in enumerate(x) if i == 0 or v != x[i-1]])"
      ],
      "execution_count": 2,
      "outputs": [
        {
          "output_type": "stream",
          "text": [
            "[1, 2, 4, 7, 3, 7, 8, 4, 9]\n"
          ],
          "name": "stdout"
        }
      ]
    },
    {
      "cell_type": "code",
      "metadata": {
        "id": "G6VmwuE-8HKz",
        "colab_type": "code",
        "colab": {}
      },
      "source": [
        "Question 3"
      ],
      "execution_count": null,
      "outputs": []
    },
    {
      "cell_type": "code",
      "metadata": {
        "id": "s_yIafwu8IHI",
        "colab_type": "code",
        "colab": {
          "base_uri": "https://localhost:8080/",
          "height": 223
        },
        "outputId": "159753ce-b318-4791-ec92-d76d387e9aa2"
      },
      "source": [
        " def unique(list1):\n",
        "  unique_list = []\n",
        "  for x in list1:\n",
        "    if x not in unique_list:\n",
        "      unique_list.append(x)\n",
        "  for x in unique_list:\n",
        "    print(x)\n",
        "list1 = [10, 20, 10, 30, 40, 40]\n",
        "print(\"the unique values from list1 is\")\n",
        "unique(list1)\n",
        "list2 = [1, 2, 1, 1, 3, 4, 3, 3, 5]\n",
        "print(\"\\nthe unique values from list2 is\")\n",
        "unique(list2)"
      ],
      "execution_count": 3,
      "outputs": [
        {
          "output_type": "stream",
          "text": [
            "the unique values from list1 is\n",
            "10\n",
            "20\n",
            "30\n",
            "40\n",
            "\n",
            "the unique values from list2 is\n",
            "1\n",
            "2\n",
            "3\n",
            "4\n",
            "5\n"
          ],
          "name": "stdout"
        }
      ]
    },
    {
      "cell_type": "code",
      "metadata": {
        "id": "HvdYbd598NWj",
        "colab_type": "code",
        "colab": {}
      },
      "source": [
        "Question 4"
      ],
      "execution_count": null,
      "outputs": []
    },
    {
      "cell_type": "code",
      "metadata": {
        "id": "fPeksZbk8OVe",
        "colab_type": "code",
        "colab": {
          "base_uri": "https://localhost:8080/",
          "height": 34
        },
        "outputId": "9e4b8591-7618-49b7-f3af-09a4b7d31c69"
      },
      "source": [
        " def test_range(n):\n",
        "  if n in range(3,11):\n",
        "    print( \" %s is in the range\"%str(n))\n",
        "  else:\n",
        "    print(\"the number is outside the given range.\")\n",
        "test_range(5)"
      ],
      "execution_count": 4,
      "outputs": [
        {
          "output_type": "stream",
          "text": [
            " 5 is in the range\n"
          ],
          "name": "stdout"
        }
      ]
    },
    {
      "cell_type": "code",
      "metadata": {
        "id": "K7ZplHPx8RVv",
        "colab_type": "code",
        "colab": {}
      },
      "source": [
        "Question 5"
      ],
      "execution_count": null,
      "outputs": []
    },
    {
      "cell_type": "code",
      "metadata": {
        "id": "Iw4g7-IS8SkT",
        "colab_type": "code",
        "colab": {
          "base_uri": "https://localhost:8080/",
          "height": 88
        },
        "outputId": "8fd1d3a1-9737-4192-ca65-81acaf4d400c"
      },
      "source": [
        " def string_test(st):\n",
        "  d={\"UPPER_CASE\":0, \"LOWER_CASE\":0}\n",
        "  for c in st:\n",
        "    if c.isupper():\n",
        "      d[\"UPPER_CASE\"]+=1\n",
        "    elif c.islower():\n",
        "      d[\"LOWER_CASE\"]+=1\n",
        "    else:\n",
        "      pass\n",
        "  print(\"Original String : \",st)\n",
        "  print(\"No.of Upper case characters :\", d[\"UPPER_CASE\"])\n",
        "  print(\"No.of Lower case characters :\", d[\"LOWER_CASE\"])\n",
        "string_test('Hello Mr.Rogers,how are you this fine Tuesday?')"
      ],
      "execution_count": 5,
      "outputs": [
        {
          "output_type": "stream",
          "text": [
            "Original String :  Hello Mr.Rogers,how are you this fine Tuesday?\n",
            "No.of Upper case characters : 4\n",
            "No.of Lower case characters : 33\n"
          ],
          "name": "stdout"
        }
      ]
    }
  ]
}